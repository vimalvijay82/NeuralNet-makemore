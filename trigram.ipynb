{
 "cells": [
  {
   "cell_type": "code",
   "execution_count": 1,
   "metadata": {},
   "outputs": [],
   "source": [
    "words = open('names.txt','r').read().splitlines()"
   ]
  },
  {
   "cell_type": "code",
   "execution_count": 2,
   "metadata": {},
   "outputs": [],
   "source": [
    "import torch"
   ]
  },
  {
   "cell_type": "code",
   "execution_count": 3,
   "metadata": {},
   "outputs": [],
   "source": [
    "import torch.nn.functional as F"
   ]
  },
  {
   "cell_type": "code",
   "execution_count": 6,
   "metadata": {},
   "outputs": [
    {
     "data": {
      "text/plain": [
       "tensor([[1, 2]])"
      ]
     },
     "execution_count": 6,
     "metadata": {},
     "output_type": "execute_result"
    }
   ],
   "source": [
    "a = [[1,2]]\n",
    "xs = torch.tensor(a)\n",
    "xs"
   ]
  },
  {
   "cell_type": "code",
   "execution_count": 7,
   "metadata": {},
   "outputs": [
    {
     "data": {
      "text/plain": [
       "tensor([[[0., 1., 0., 0., 0., 0., 0., 0., 0., 0., 0., 0., 0., 0., 0., 0., 0.,\n",
       "          0., 0., 0., 0., 0., 0., 0., 0., 0., 0.],\n",
       "         [0., 0., 1., 0., 0., 0., 0., 0., 0., 0., 0., 0., 0., 0., 0., 0., 0.,\n",
       "          0., 0., 0., 0., 0., 0., 0., 0., 0., 0.]]])"
      ]
     },
     "execution_count": 7,
     "metadata": {},
     "output_type": "execute_result"
    }
   ],
   "source": [
    "xenc = F.one_hot(xs, num_classes=27).float()\n",
    "xenc"
   ]
  },
  {
   "cell_type": "code",
   "execution_count": 75,
   "metadata": {},
   "outputs": [],
   "source": [
    "chars = ['.'] + sorted(list(set(''.join(words))))\n",
    "chars_bi = []\n",
    "for i in chars:\n",
    "    for j in chars:\n",
    "        ch_ = i+j\n",
    "        chars_bi.append(''.join(ch_))\n",
    "# chars_bi"
   ]
  },
  {
   "cell_type": "code",
   "execution_count": 78,
   "metadata": {},
   "outputs": [],
   "source": [
    "stoi_bi = {s:i for i,s in enumerate(chars_bi)}\n",
    "itos_bi = {i:s for s,i in stoi_bi.items()}\n",
    "stoi = {s:i for i,s in enumerate(chars)}\n",
    "itos = {i:s for s,i in stoi.items()}"
   ]
  },
  {
   "cell_type": "code",
   "execution_count": 95,
   "metadata": {},
   "outputs": [
    {
     "name": "stdout",
     "output_type": "stream",
     "text": [
      "number of examples:  196113\n"
     ]
    }
   ],
   "source": [
    "xs, ys = [], []\n",
    "for w in words:\n",
    "    chs = ['.'] + list(w) + ['.']\n",
    "    for ch1, ch2, ch3 in zip(chs, chs[1:], chs[2:]):\n",
    "        ix1 = stoi_bi[ch1+ch2]\n",
    "        ix3 = stoi[ch3]\n",
    "        xs.append(ix1)\n",
    "        ys.append(ix3)\n",
    "xs = torch.tensor(xs)\n",
    "ys = torch.tensor(ys)\n",
    "num = xs.nelement()\n",
    "print('number of examples: ',num)"
   ]
  },
  {
   "cell_type": "code",
   "execution_count": 96,
   "metadata": {},
   "outputs": [
    {
     "data": {
      "text/plain": [
       "tensor([  5, 148, 364,  ..., 727, 701, 726])"
      ]
     },
     "execution_count": 96,
     "metadata": {},
     "output_type": "execute_result"
    }
   ],
   "source": [
    "xs"
   ]
  },
  {
   "cell_type": "code",
   "execution_count": 97,
   "metadata": {},
   "outputs": [
    {
     "data": {
      "text/plain": [
       "tensor([13, 13,  1,  ..., 26, 24,  0])"
      ]
     },
     "execution_count": 97,
     "metadata": {},
     "output_type": "execute_result"
    }
   ],
   "source": [
    "ys"
   ]
  },
  {
   "cell_type": "code",
   "execution_count": 98,
   "metadata": {},
   "outputs": [
    {
     "data": {
      "text/plain": [
       "torch.Size([196113, 729])"
      ]
     },
     "execution_count": 98,
     "metadata": {},
     "output_type": "execute_result"
    }
   ],
   "source": [
    "g = torch.Generator().manual_seed(2147483647)\n",
    "xenc = F.one_hot(xs, num_classes=729).float()\n",
    "xenc.shape"
   ]
  },
  {
   "cell_type": "code",
   "execution_count": 99,
   "metadata": {},
   "outputs": [],
   "source": [
    "W = torch.randn((729, 27), generator=g, requires_grad=True)"
   ]
  },
  {
   "cell_type": "code",
   "execution_count": 102,
   "metadata": {},
   "outputs": [
    {
     "name": "stdout",
     "output_type": "stream",
     "text": [
      "2.912386894226074\n",
      "2.900967836380005\n",
      "2.8899002075195312\n",
      "2.8791685104370117\n",
      "2.8687584400177\n",
      "2.858656167984009\n",
      "2.848849058151245\n",
      "2.839324712753296\n",
      "2.8300724029541016\n",
      "2.8210809230804443\n",
      "2.8123397827148438\n",
      "2.8038389682769775\n",
      "2.7955691814422607\n",
      "2.7875213623046875\n",
      "2.7796871662139893\n",
      "2.7720580101013184\n",
      "2.7646257877349854\n",
      "2.757383108139038\n",
      "2.7503225803375244\n",
      "2.7434370517730713\n",
      "2.736720085144043\n",
      "2.7301642894744873\n",
      "2.723764419555664\n",
      "2.7175135612487793\n",
      "2.71140718460083\n",
      "2.7054388523101807\n",
      "2.699604034423828\n",
      "2.693897247314453\n",
      "2.6883137226104736\n",
      "2.682849407196045\n",
      "2.677499294281006\n",
      "2.67225980758667\n",
      "2.6671266555786133\n",
      "2.6620962619781494\n",
      "2.657165050506592\n",
      "2.652329683303833\n",
      "2.6475865840911865\n",
      "2.6429331302642822\n",
      "2.638366222381592\n",
      "2.633882999420166\n",
      "2.6294806003570557\n",
      "2.625156879425049\n",
      "2.6209092140197754\n",
      "2.6167349815368652\n",
      "2.6126320362091064\n",
      "2.6085989475250244\n",
      "2.60463285446167\n",
      "2.6007320880889893\n",
      "2.5968949794769287\n",
      "2.5931193828582764\n",
      "2.5894038677215576\n",
      "2.5857467651367188\n",
      "2.582146644592285\n",
      "2.578601598739624\n",
      "2.57511043548584\n",
      "2.571671724319458\n",
      "2.568284034729004\n",
      "2.564946174621582\n",
      "2.561656951904297\n",
      "2.558415412902832\n",
      "2.5552196502685547\n",
      "2.5520691871643066\n",
      "2.5489625930786133\n",
      "2.5458993911743164\n",
      "2.5428779125213623\n",
      "2.539897918701172\n",
      "2.5369579792022705\n",
      "2.534057140350342\n",
      "2.5311944484710693\n",
      "2.528369903564453\n",
      "2.5255818367004395\n",
      "2.522829532623291\n",
      "2.5201125144958496\n",
      "2.517430067062378\n",
      "2.5147812366485596\n",
      "2.5121657848358154\n",
      "2.509582757949829\n",
      "2.5070314407348633\n",
      "2.5045108795166016\n",
      "2.502021074295044\n",
      "2.499561309814453\n",
      "2.497130870819092\n",
      "2.4947290420532227\n",
      "2.4923555850982666\n",
      "2.4900100231170654\n",
      "2.4876914024353027\n",
      "2.4853997230529785\n",
      "2.4831340312957764\n",
      "2.4808943271636963\n",
      "2.478679656982422\n",
      "2.476490020751953\n",
      "2.4743247032165527\n",
      "2.4721837043762207\n",
      "2.4700658321380615\n",
      "2.4679713249206543\n",
      "2.4658992290496826\n",
      "2.4638500213623047\n",
      "2.461822748184204\n",
      "2.4598166942596436\n",
      "2.4578323364257812\n"
     ]
    }
   ],
   "source": [
    "for k in range(100):\n",
    "    logits = xenc @ W\n",
    "    counts = logits.exp()\n",
    "    probs = counts / counts.sum(1, keepdims=True)\n",
    "    loss = -probs[torch.arange(num), ys].log().mean()\n",
    "    print(loss.item())\n",
    "    \n",
    "    W.grad = None\n",
    "    loss.backward()\n",
    "\n",
    "    W.data += -30 * W.grad"
   ]
  },
  {
   "cell_type": "code",
   "execution_count": 110,
   "metadata": {},
   "outputs": [
    {
     "name": "stdout",
     "output_type": "stream",
     "text": [
      "orih.\n",
      "omavmabloolavmauwzozanadekolelinarelwilanphaadichadelevekedshapmikavnalileviparanhcolbbviufbfh.\n",
      "phanizejihamqhasplymanaxjky.\n",
      "ozevidelumauunapanoozapauyh.\n",
      "ydanapaarashibramayhtbmcjazanarybevingranabsarofalvinibricdbrdenadeisadevnanininivirardcogmalakalwmiagsaxvfaroyusmacalivisarblelolavnalic.\n"
     ]
    }
   ],
   "source": [
    "for i in range(5):\n",
    "    out = []\n",
    "    ix = 0\n",
    "\n",
    "    while True:\n",
    "        xenc = F.one_hot(torch.tensor([ix]), num_classes=729).float()\n",
    "        logits = xenc @ W\n",
    "        counts = logits.exp()\n",
    "        p = counts / counts.sum(1, keepdims=True)\n",
    "\n",
    "        ix = torch.multinomial(p, num_samples=1, replacement=True).item()\n",
    "        out.append(itos[ix])\n",
    "        if ix % 27 == 0:\n",
    "            break\n",
    "    print(''.join(out))"
   ]
  }
 ],
 "metadata": {
  "kernelspec": {
   "display_name": "Python 3",
   "language": "python",
   "name": "python3"
  },
  "language_info": {
   "codemirror_mode": {
    "name": "ipython",
    "version": 3
   },
   "file_extension": ".py",
   "mimetype": "text/x-python",
   "name": "python",
   "nbconvert_exporter": "python",
   "pygments_lexer": "ipython3",
   "version": "3.10.4"
  }
 },
 "nbformat": 4,
 "nbformat_minor": 2
}
